{
 "cells": [
  {
   "cell_type": "code",
   "execution_count": 1,
   "id": "f5745106",
   "metadata": {},
   "outputs": [],
   "source": [
    "import pandas as pd\n",
    "import numpy as np\n",
    "from textblob import TextBlob\n",
    "import re\n",
    "import matplotlib.pyplot as plt\n",
    "plt.style.use('fivethirtyeight')"
   ]
  },
  {
   "cell_type": "code",
   "execution_count": 2,
   "id": "d3004890",
   "metadata": {},
   "outputs": [],
   "source": [
    "#Import csv\n",
    "df= pd.read_csv(r\"C:\\Users\\user\\Desktop\\Presidents Comments\\tinubu_df.csv\")"
   ]
  },
  {
   "cell_type": "code",
   "execution_count": 3,
   "id": "2d40edd8",
   "metadata": {},
   "outputs": [
    {
     "data": {
      "text/html": [
       "<div>\n",
       "<style scoped>\n",
       "    .dataframe tbody tr th:only-of-type {\n",
       "        vertical-align: middle;\n",
       "    }\n",
       "\n",
       "    .dataframe tbody tr th {\n",
       "        vertical-align: top;\n",
       "    }\n",
       "\n",
       "    .dataframe thead th {\n",
       "        text-align: right;\n",
       "    }\n",
       "</style>\n",
       "<table border=\"1\" class=\"dataframe\">\n",
       "  <thead>\n",
       "    <tr style=\"text-align: right;\">\n",
       "      <th></th>\n",
       "      <th>Unnamed: 0</th>\n",
       "      <th>Date Created</th>\n",
       "      <th>Number of Likes</th>\n",
       "      <th>Source of Tweet</th>\n",
       "      <th>Tweets</th>\n",
       "    </tr>\n",
       "  </thead>\n",
       "  <tbody>\n",
       "    <tr>\n",
       "      <th>0</th>\n",
       "      <td>0</td>\n",
       "      <td>2022-07-17 23:59:33+00:00</td>\n",
       "      <td>0</td>\n",
       "      <td>Twitter for Android</td>\n",
       "      <td>@SelfAdulation @officialABAT One of the Kuje e...</td>\n",
       "    </tr>\n",
       "    <tr>\n",
       "      <th>1</th>\n",
       "      <td>1</td>\n",
       "      <td>2022-07-17 23:59:14+00:00</td>\n",
       "      <td>0</td>\n",
       "      <td>Twitter for Android</td>\n",
       "      <td>@Facaloni_ @LaoMureli @TinubuMediaS Lol with i...</td>\n",
       "    </tr>\n",
       "    <tr>\n",
       "      <th>2</th>\n",
       "      <td>2</td>\n",
       "      <td>2022-07-17 23:59:12+00:00</td>\n",
       "      <td>0</td>\n",
       "      <td>Twitter for Android</td>\n",
       "      <td>@Ahmadusanij Isn't God super wonderful? Tinubu...</td>\n",
       "    </tr>\n",
       "    <tr>\n",
       "      <th>3</th>\n",
       "      <td>3</td>\n",
       "      <td>2022-07-17 23:59:06+00:00</td>\n",
       "      <td>3</td>\n",
       "      <td>Twitter for Android</td>\n",
       "      <td>@BabatundeBaba19 @BrightIrem @nextofkinpapi @k...</td>\n",
       "    </tr>\n",
       "    <tr>\n",
       "      <th>4</th>\n",
       "      <td>4</td>\n",
       "      <td>2022-07-17 23:58:58+00:00</td>\n",
       "      <td>2</td>\n",
       "      <td>Twitter for Android</td>\n",
       "      <td>Yoruba race must bring down Tinubu. A drug bar...</td>\n",
       "    </tr>\n",
       "  </tbody>\n",
       "</table>\n",
       "</div>"
      ],
      "text/plain": [
       "   Unnamed: 0               Date Created  Number of Likes  \\\n",
       "0           0  2022-07-17 23:59:33+00:00                0   \n",
       "1           1  2022-07-17 23:59:14+00:00                0   \n",
       "2           2  2022-07-17 23:59:12+00:00                0   \n",
       "3           3  2022-07-17 23:59:06+00:00                3   \n",
       "4           4  2022-07-17 23:58:58+00:00                2   \n",
       "\n",
       "       Source of Tweet                                             Tweets  \n",
       "0  Twitter for Android  @SelfAdulation @officialABAT One of the Kuje e...  \n",
       "1  Twitter for Android  @Facaloni_ @LaoMureli @TinubuMediaS Lol with i...  \n",
       "2  Twitter for Android  @Ahmadusanij Isn't God super wonderful? Tinubu...  \n",
       "3  Twitter for Android  @BabatundeBaba19 @BrightIrem @nextofkinpapi @k...  \n",
       "4  Twitter for Android  Yoruba race must bring down Tinubu. A drug bar...  "
      ]
     },
     "execution_count": 3,
     "metadata": {},
     "output_type": "execute_result"
    }
   ],
   "source": [
    "#lets look at the dataset\n",
    "df.head()"
   ]
  },
  {
   "cell_type": "code",
   "execution_count": 4,
   "id": "35e50515",
   "metadata": {},
   "outputs": [],
   "source": [
    "#clean the dataset\n",
    "#clean text\n",
    "def cleanTxt(text): \n",
    "    text = re.sub('@[A-Za-z0-9]+',' ',text)\n",
    "    text = re.sub('#',' ',text)\n",
    "    text = re.sub('RT\\s+','',text)\n",
    "    text = re.sub('https?:\\/\\/\\S+','',text)\n",
    "    \n",
    "    return text\n",
    "\n",
    "df['Tweets'] = df['Tweets'].apply(cleanTxt)"
   ]
  },
  {
   "cell_type": "code",
   "execution_count": 5,
   "id": "8febfa44",
   "metadata": {},
   "outputs": [
    {
     "data": {
      "text/html": [
       "<div>\n",
       "<style scoped>\n",
       "    .dataframe tbody tr th:only-of-type {\n",
       "        vertical-align: middle;\n",
       "    }\n",
       "\n",
       "    .dataframe tbody tr th {\n",
       "        vertical-align: top;\n",
       "    }\n",
       "\n",
       "    .dataframe thead th {\n",
       "        text-align: right;\n",
       "    }\n",
       "</style>\n",
       "<table border=\"1\" class=\"dataframe\">\n",
       "  <thead>\n",
       "    <tr style=\"text-align: right;\">\n",
       "      <th></th>\n",
       "      <th>Unnamed: 0</th>\n",
       "      <th>Date Created</th>\n",
       "      <th>Number of Likes</th>\n",
       "      <th>Source of Tweet</th>\n",
       "      <th>Tweets</th>\n",
       "    </tr>\n",
       "  </thead>\n",
       "  <tbody>\n",
       "    <tr>\n",
       "      <th>0</th>\n",
       "      <td>0</td>\n",
       "      <td>2022-07-17 23:59:33+00:00</td>\n",
       "      <td>0</td>\n",
       "      <td>Twitter for Android</td>\n",
       "      <td>One of the Kuje escapee has spoken\\nThanks...</td>\n",
       "    </tr>\n",
       "    <tr>\n",
       "      <th>1</th>\n",
       "      <td>1</td>\n",
       "      <td>2022-07-17 23:59:14+00:00</td>\n",
       "      <td>0</td>\n",
       "      <td>Twitter for Android</td>\n",
       "      <td>_     Lol with is pass abiii, so Na Tinubu no...</td>\n",
       "    </tr>\n",
       "    <tr>\n",
       "      <th>2</th>\n",
       "      <td>2</td>\n",
       "      <td>2022-07-17 23:59:12+00:00</td>\n",
       "      <td>0</td>\n",
       "      <td>Twitter for Android</td>\n",
       "      <td>Isn't God super wonderful? Tinubu declared h...</td>\n",
       "    </tr>\n",
       "    <tr>\n",
       "      <th>3</th>\n",
       "      <td>3</td>\n",
       "      <td>2022-07-17 23:59:06+00:00</td>\n",
       "      <td>3</td>\n",
       "      <td>Twitter for Android</td>\n",
       "      <td>Everyone knows that if he is free,...</td>\n",
       "    </tr>\n",
       "    <tr>\n",
       "      <th>4</th>\n",
       "      <td>4</td>\n",
       "      <td>2022-07-17 23:58:58+00:00</td>\n",
       "      <td>2</td>\n",
       "      <td>Twitter for Android</td>\n",
       "      <td>Yoruba race must bring down Tinubu. A drug bar...</td>\n",
       "    </tr>\n",
       "  </tbody>\n",
       "</table>\n",
       "</div>"
      ],
      "text/plain": [
       "   Unnamed: 0               Date Created  Number of Likes  \\\n",
       "0           0  2022-07-17 23:59:33+00:00                0   \n",
       "1           1  2022-07-17 23:59:14+00:00                0   \n",
       "2           2  2022-07-17 23:59:12+00:00                0   \n",
       "3           3  2022-07-17 23:59:06+00:00                3   \n",
       "4           4  2022-07-17 23:58:58+00:00                2   \n",
       "\n",
       "       Source of Tweet                                             Tweets  \n",
       "0  Twitter for Android      One of the Kuje escapee has spoken\\nThanks...  \n",
       "1  Twitter for Android   _     Lol with is pass abiii, so Na Tinubu no...  \n",
       "2  Twitter for Android    Isn't God super wonderful? Tinubu declared h...  \n",
       "3  Twitter for Android              Everyone knows that if he is free,...  \n",
       "4  Twitter for Android  Yoruba race must bring down Tinubu. A drug bar...  "
      ]
     },
     "execution_count": 5,
     "metadata": {},
     "output_type": "execute_result"
    }
   ],
   "source": [
    "#take a look at the cleaned dataframe\n",
    "df.head()"
   ]
  },
  {
   "cell_type": "code",
   "execution_count": 6,
   "id": "efe044ab",
   "metadata": {},
   "outputs": [],
   "source": [
    "#create a function to get the subjectivity\n",
    "def getSubjectivity(tweet):\n",
    "    return TextBlob(tweet).sentiment.subjectivity\n",
    "\n",
    "#create a function to get the polarity\n",
    "def getpolarity(tweet):\n",
    "    return TextBlob(tweet).sentiment.polarity\n",
    "\n",
    "# create two new columns 'Subjectivity' & 'Polarity'\n",
    "\n",
    "df['Subjectivity']=df['Tweets'].apply(getSubjectivity)\n",
    "df['Polartiy']=df['Tweets'].apply(getpolarity)\n"
   ]
  },
  {
   "cell_type": "code",
   "execution_count": 7,
   "id": "cbc614f7",
   "metadata": {},
   "outputs": [],
   "source": [
    "#create function to define the sentiment text\n",
    "\n",
    "def getSentiment (score):\n",
    "    if score < 0:\n",
    "        return 'Negative'\n",
    "    elif score ==0:\n",
    "        return 'Neutral'\n",
    "    else:\n",
    "        return 'Positive'\n",
    "    \n",
    "    \n",
    "#create new column for sentiment text\n",
    "\n",
    "df['Sentiment'] = df['Polartiy'].apply(getSentiment)"
   ]
  },
  {
   "cell_type": "code",
   "execution_count": 8,
   "id": "0e971974",
   "metadata": {},
   "outputs": [
    {
     "data": {
      "image/png": "[encoded data removed]",
      "text/plain": [
       "<Figure size 432x288 with 1 Axes>"
      ]
     },
     "metadata": {},
     "output_type": "display_data"
    }
   ],
   "source": [
    "df['Sentiment'].value_counts().plot(kind = 'bar',color = 'purple')\n",
    "plt.title('Sentiment Analysis')\n",
    "plt.xlabel('sentiment')\n",
    "plt.ylabel('number of tweets')\n",
    "plt.show()\n"
   ]
  },
  {
   "cell_type": "code",
   "execution_count": 9,
   "id": "577df873",
   "metadata": {},
   "outputs": [
    {
     "data": {
      "text/plain": [
       "Neutral     137\n",
       "Positive    104\n",
       "Negative     60\n",
       "Name: Sentiment, dtype: int64"
      ]
     },
     "execution_count": 9,
     "metadata": {},
     "output_type": "execute_result"
    }
   ],
   "source": [
    "#find the count of each value in 'Sentiment column'\n",
    "df.Sentiment.value_counts()"
   ]
  },
  {
   "cell_type": "code",
   "execution_count": null,
   "id": "60d2e3a2",
   "metadata": {},
   "outputs": [],
   "source": []
  }
 ],
 "metadata": {
  "kernelspec": {
   "display_name": "Python 3 (ipykernel)",
   "language": "python",
   "name": "python3"
  },
  "language_info": {
   "codemirror_mode": {
    "name": "ipython",
    "version": 3
   },
   "file_extension": ".py",
   "mimetype": "text/x-python",
   "name": "python",
   "nbconvert_exporter": "python",
   "pygments_lexer": "ipython3",
   "version": "3.7.11"
  }
 },
 "nbformat": 4,
 "nbformat_minor": 5
}
